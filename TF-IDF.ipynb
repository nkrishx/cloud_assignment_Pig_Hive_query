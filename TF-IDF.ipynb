{
 "cells": [
  {
   "cell_type": "code",
   "execution_count": 2,
   "metadata": {},
   "outputs": [],
   "source": [
    "import pandas as pd"
   ]
  },
  {
   "cell_type": "code",
   "execution_count": 3,
   "metadata": {},
   "outputs": [],
   "source": [
    "csv=r'out.csv'\n",
    "keys=[]\n",
    "d={}"
   ]
  },
  {
   "cell_type": "code",
   "execution_count": 4,
   "metadata": {},
   "outputs": [],
   "source": [
    "def set_key(dictionary, key, value):\n",
    "    if key not in dictionary:\n",
    "        dictionary[key] = value\n",
    "    elif type(dictionary[key]) == list:\n",
    "        dictionary[key].append(value)\n",
    "    else:\n",
    "        dictionary[key] = [dictionary[key], value]"
   ]
  },
  {
   "cell_type": "code",
   "execution_count": 5,
   "metadata": {},
   "outputs": [],
   "source": [
    "def computeTF(wordDict, bow):\n",
    "    tfDict = {}\n",
    "    bowCount = len(bow)\n",
    "    for word, count in wordDict.items():\n",
    "        tfDict[word] = count/float(bowCount)\n",
    "    return tfDict"
   ]
  },
  {
   "cell_type": "code",
   "execution_count": 6,
   "metadata": {},
   "outputs": [],
   "source": [
    "def computeIDF(docList):\n",
    "    import math\n",
    "    idfDict = {}\n",
    "    N = len(docList)\n",
    "    idfDict = dict.fromkeys(docList[0].keys(), 0)\n",
    "    for doc in docList:\n",
    "        for word, val in doc.items():\n",
    "            if val > 0:\n",
    "                idfDict[word] += 1\n",
    "    for word, val in idfDict.items():\n",
    "        idfDict[word] = math.log10(N / float(val))\n",
    "    return idfDict"
   ]
  },
  {
   "cell_type": "code",
   "execution_count": 7,
   "metadata": {},
   "outputs": [],
   "source": [
    "def computeTFIDF(tfBow, idfs):\n",
    "    tfidf = {}\n",
    "    for word, val in tfBow.items():\n",
    "        tfidf[word] = val*idfs[word]\n",
    "    return tfidf"
   ]
  },
  {
   "cell_type": "code",
   "execution_count": 8,
   "metadata": {},
   "outputs": [],
   "source": [
    "with open(csv,'r',encoding=\"utf-8\") as f:\n",
    "    x=f.readlines()\n",
    "    for each in x:\n",
    "        q=each.split(',')\n",
    "        keys.append(q[-1].rstrip())"
   ]
  },
  {
   "cell_type": "code",
   "execution_count": 9,
   "metadata": {},
   "outputs": [
    {
     "name": "stdout",
     "output_type": "stream",
     "text": [
      "the top 10 users userID is\n",
      "['179736', '6068', '63051', '4883', '95592', '9951', '89904', '39677', '49153', '87234']\n"
     ]
    }
   ],
   "source": [
    "keys=list(dict.fromkeys(keys))\n",
    "print (\"the top 10 users userID is\")\n",
    "print (keys)"
   ]
  },
  {
   "cell_type": "code",
   "execution_count": 10,
   "metadata": {},
   "outputs": [],
   "source": [
    "for val in keys:\n",
    "    for each in x:\n",
    "        q=each.split(',')\n",
    "        if q[-1].rstrip() == val:\n",
    "            for each in q[:-1]:\n",
    "                set_key(d,val,each)"
   ]
  },
  {
   "cell_type": "code",
   "execution_count": 11,
   "metadata": {},
   "outputs": [
    {
     "name": "stdout",
     "output_type": "stream",
     "text": [
      "top 10 TF-IDF values of user with userID:179736\n",
      "that: 0.002359257290145029\n",
      "'I: 0.001291974230317516\n",
      "How: 0.0011796286450725146\n",
      "gt: 0.0009549374745825117\n",
      "be: 0.0007302463040925089\n",
      "just: 0.0007302463040925089\n",
      "but: 0.0007302463040925089\n",
      "there: 0.0006740735114700084\n",
      "INFO: 0.0006740735114700084\n",
      "code: 0.0006179007188475076\n",
      "top 10 TF-IDF values of user with userID:6068\n",
      ": 0.05952570535728442\n",
      "it: 0.0038016416866837105\n",
      "that: 0.0030012960684345086\n",
      "but: 0.0020008640456230056\n",
      "like: 0.0017007344387795548\n",
      "this: 0.0016006912364984044\n",
      "way: 0.0014006048319361037\n",
      "be: 0.0012005184273738033\n",
      "all: 0.0011004752250926531\n",
      "any: 0.0011004752250926531\n",
      "top 10 TF-IDF values of user with userID:63051\n",
      "'I: 0.003061868264248203\n",
      "want: 0.0029007173029719814\n",
      "be: 0.0025784153804195393\n",
      "have: 0.0020949624965908753\n",
      "as: 0.0014503586514859907\n",
      "this: 0.0012892076902097697\n",
      "know: 0.0011280567289335484\n",
      "there: 0.0009669057676573271\n",
      "but: 0.0009669057676573271\n",
      "example: 0.0009669057676573271\n",
      "top 10 TF-IDF values of user with userID:4883\n",
      ": 0.02481016447780065\n",
      "there: 0.004341778783615114\n",
      "some: 0.0018607623358350485\n",
      "way: 0.0018607623358350485\n",
      "are: 0.0018607623358350485\n",
      "be: 0.00165401096518671\n",
      "or: 0.0014472595945383712\n",
      "x: 0.0014472595945383712\n",
      "Is: 0.0014472595945383712\n",
      "would: 0.0012405082238900324\n",
      "top 10 TF-IDF values of user with userID:95592\n",
      "that: 0.003171304654482784\n",
      "my: 0.002927358142599493\n",
      "ltheadergt: 0.00219551860694962\n",
      "ltnavgt: 0.0019515720950663287\n",
      "python: 0.0019515720950663287\n",
      "in: 0.0017076255831830376\n",
      "pg_config: 0.0014636790712997466\n",
      "setup.py: 0.0014636790712997466\n",
      "element: 0.0014636790712997466\n",
      "ltulgt: 0.0012197325594164555\n",
      "top 10 TF-IDF values of user with userID:9951\n",
      "it: 0.004922309586738579\n",
      "that: 0.0027687991425404505\n",
      "but: 0.0026149769679548697\n",
      "with: 0.0023073326187837088\n",
      "know: 0.0023073326187837088\n",
      "like: 0.0023073326187837088\n",
      "can: 0.001845866095026967\n",
      "have: 0.001845866095026967\n",
      "this: 0.0016920439204413864\n",
      "'I: 0.0013843995712702253\n",
      "top 10 TF-IDF values of user with userID:89904\n",
      ": 0.03786540825962028\n",
      "is: 0.007099764048678802\n",
      "it: 0.006626446445433548\n",
      "my: 0.0037865408259620276\n",
      "i: 0.0037865408259620276\n",
      "but: 0.003313223222716774\n",
      "not: 0.003313223222716774\n",
      "new: 0.003313223222716774\n",
      "am: 0.0028399056194715207\n",
      "of: 0.0028399056194715207\n",
      "top 10 TF-IDF values of user with userID:39677\n",
      "'I: 0.0022522317193838007\n",
      "Using: 0.0012634470620933517\n",
      "am: 0.0009887846572904492\n",
      "some: 0.0008239872144087077\n",
      "as: 0.0007141222524875466\n",
      "was: 0.000549324809605805\n",
      "so: 0.000549324809605805\n",
      "need: 0.000549324809605805\n",
      "would: 0.000549324809605805\n",
      "block: 0.0004943923286452246\n",
      "top 10 TF-IDF values of user with userID:49153\n",
      "be: 0.0028293136993630934\n",
      "can: 0.0024700357692852403\n",
      "it: 0.002110757839207387\n",
      "as: 0.0020658480979476555\n",
      "that: 0.0018412993916489973\n",
      "have: 0.0014820214615711442\n",
      "which: 0.0013472922377919493\n",
      "gt: 0.0013023824965322176\n",
      "want: 0.001257472755272486\n",
      "so: 0.0011676532727530227\n",
      "top 10 TF-IDF values of user with userID:87234\n",
      ": 0.14564846210532115\n",
      "0: 0.00347609694762103\n",
      "arraySize: 0.002780877558096824\n",
      "data: 0.002780877558096824\n",
      "it: 0.002780877558096824\n",
      "and: 0.002780877558096824\n",
      "c: 0.002780877558096824\n",
      "sum: 0.0024332678633347212\n",
      "int: 0.0024332678633347212\n",
      "datac: 0.002085658168572618\n"
     ]
    }
   ],
   "source": [
    "for each in keys:\n",
    "    body=[]\n",
    "    title=[]\n",
    "    body.append(d[each][0::2])\n",
    "    title.append(d[each][1::2])\n",
    "    for i in range(0,len(body)):\n",
    "        docA=str(body[i])\n",
    "        docB=str(title[i])  \n",
    "        bowA = docA.split(\" \")\n",
    "        bowB = docB.split(\" \")   \n",
    "        wordSet = set(bowA).union(set(bowB))\n",
    "        wordDictA = dict.fromkeys(wordSet, 0) \n",
    "        wordDictB = dict.fromkeys(wordSet, 0)\n",
    "        for word in bowA:\n",
    "            wordDictA[word]+=1\n",
    "        for word in bowB:\n",
    "            wordDictB[word]+=1\n",
    "        pd.DataFrame([wordDictA, wordDictB])\n",
    "        tfBowA = computeTF(wordDictA, bowA)\n",
    "        tfBowB = computeTF(wordDictB, bowB)\n",
    "        idfs = computeIDF([wordDictA, wordDictB])\n",
    "        tfidfBowA = computeTFIDF(tfBowA, idfs)\n",
    "        tfidfBowB = computeTFIDF(tfBowB, idfs)\n",
    "        pd.DataFrame([tfidfBowA, tfidfBowB])\n",
    "        c=len(tfidfBowA)\n",
    "        print (\"top 10 TF-IDF values of user with userID:{}\".format(each))\n",
    "        for key, value in sorted(tfidfBowA.items(), key=lambda item: item[1] , reverse=True)[:10]:\n",
    "            print(\"{}: {}\".format(key, value))"
   ]
  },
  {
   "cell_type": "code",
   "execution_count": null,
   "metadata": {},
   "outputs": [],
   "source": []
  }
 ],
 "metadata": {
  "kernelspec": {
   "display_name": "Python 3",
   "language": "python",
   "name": "python3"
  },
  "language_info": {
   "codemirror_mode": {
    "name": "ipython",
    "version": 3
   },
   "file_extension": ".py",
   "mimetype": "text/x-python",
   "name": "python",
   "nbconvert_exporter": "python",
   "pygments_lexer": "ipython3",
   "version": "3.7.3"
  }
 },
 "nbformat": 4,
 "nbformat_minor": 2
}
